{
  "nbformat": 4,
  "nbformat_minor": 0,
  "metadata": {
    "colab": {
      "provenance": [],
      "gpuType": "T4",
      "include_colab_link": true
    },
    "kernelspec": {
      "name": "python3",
      "display_name": "Python 3"
    },
    "language_info": {
      "name": "python"
    },
    "accelerator": "GPU"
  },
  "cells": [
    {
      "cell_type": "markdown",
      "metadata": {
        "id": "view-in-github",
        "colab_type": "text"
      },
      "source": [
        "<a href=\"https://colab.research.google.com/github/Guru-180188/Projects/blob/main/text_to_image_6.ipynb\" target=\"_parent\"><img src=\"https://colab.research.google.com/assets/colab-badge.svg\" alt=\"Open In Colab\"/></a>"
      ]
    },
    {
      "cell_type": "code",
      "source": [
        "!mkdir -p ~/ .kaggle"
      ],
      "metadata": {
        "id": "3fT3KpuZz1VA"
      },
      "execution_count": null,
      "outputs": []
    },
    {
      "cell_type": "code",
      "source": [
        "!cp kaggle.json ~/.kaggle/"
      ],
      "metadata": {
        "id": "1e9Wo2Xaz0lh"
      },
      "execution_count": null,
      "outputs": []
    },
    {
      "cell_type": "code",
      "source": [],
      "metadata": {
        "id": "W3zlTgdUz0YA"
      },
      "execution_count": null,
      "outputs": []
    },
    {
      "cell_type": "code",
      "source": [
        "import glob\n",
        "import pandas as pd\n",
        "import urllib.request\n",
        "import imageio\n",
        "import os\n",
        "import numpy as np\n",
        "from urllib.request import urlopen"
      ],
      "metadata": {
        "id": "pJheZE5ozt0s"
      },
      "execution_count": null,
      "outputs": []
    },
    {
      "cell_type": "code",
      "source": [
        "def loadGloveModel(gloveFile):\n",
        "    print(\"Loading Glove Model\")\n",
        "    f = open(gloveFile,'r',encoding=\"utf8\")\n",
        "    model = {}\n",
        "    for line in f:\n",
        "        try:\n",
        "            splitLine = line.split()\n",
        "            word = splitLine[0]\n",
        "            embedding = np.array([float(val) for val in splitLine[1:]])\n",
        "            model[word] = embedding\n",
        "        except:\n",
        "            print(word)\n",
        "    print(\"Done.\",len(model),\" words loaded!\")\n",
        "    return model"
      ],
      "metadata": {
        "id": "yuga5ahdzxor"
      },
      "execution_count": null,
      "outputs": []
    },
    {
      "cell_type": "code",
      "source": [
        "glove_embeddings = loadGloveModel(\"/content/dataset/glove.6B.300d.txt\")"
      ],
      "metadata": {
        "colab": {
          "base_uri": "https://localhost:8080/",
          "height": 314
        },
        "id": "_Kyp5YMhzx0v",
        "outputId": "0c716bdb-9108-4d09-ac74-91362b4c32b3"
      },
      "execution_count": null,
      "outputs": [
        {
          "output_type": "stream",
          "name": "stdout",
          "text": [
            "Loading Glove Model\n"
          ]
        },
        {
          "output_type": "error",
          "ename": "FileNotFoundError",
          "evalue": "[Errno 2] No such file or directory: '/content/dataset/glove.6B.300d.txt'",
          "traceback": [
            "\u001b[0;31m---------------------------------------------------------------------------\u001b[0m",
            "\u001b[0;31mFileNotFoundError\u001b[0m                         Traceback (most recent call last)",
            "\u001b[0;32m<ipython-input-3-83df960b5a94>\u001b[0m in \u001b[0;36m<cell line: 1>\u001b[0;34m()\u001b[0m\n\u001b[0;32m----> 1\u001b[0;31m \u001b[0mglove_embeddings\u001b[0m \u001b[0;34m=\u001b[0m \u001b[0mloadGloveModel\u001b[0m\u001b[0;34m(\u001b[0m\u001b[0;34m\"/content/dataset/glove.6B.300d.txt\"\u001b[0m\u001b[0;34m)\u001b[0m\u001b[0;34m\u001b[0m\u001b[0;34m\u001b[0m\u001b[0m\n\u001b[0m",
            "\u001b[0;32m<ipython-input-2-fa527d416f6a>\u001b[0m in \u001b[0;36mloadGloveModel\u001b[0;34m(gloveFile)\u001b[0m\n\u001b[1;32m      1\u001b[0m \u001b[0;32mdef\u001b[0m \u001b[0mloadGloveModel\u001b[0m\u001b[0;34m(\u001b[0m\u001b[0mgloveFile\u001b[0m\u001b[0;34m)\u001b[0m\u001b[0;34m:\u001b[0m\u001b[0;34m\u001b[0m\u001b[0;34m\u001b[0m\u001b[0m\n\u001b[1;32m      2\u001b[0m     \u001b[0mprint\u001b[0m\u001b[0;34m(\u001b[0m\u001b[0;34m\"Loading Glove Model\"\u001b[0m\u001b[0;34m)\u001b[0m\u001b[0;34m\u001b[0m\u001b[0;34m\u001b[0m\u001b[0m\n\u001b[0;32m----> 3\u001b[0;31m     \u001b[0mf\u001b[0m \u001b[0;34m=\u001b[0m \u001b[0mopen\u001b[0m\u001b[0;34m(\u001b[0m\u001b[0mgloveFile\u001b[0m\u001b[0;34m,\u001b[0m\u001b[0;34m'r'\u001b[0m\u001b[0;34m,\u001b[0m\u001b[0mencoding\u001b[0m\u001b[0;34m=\u001b[0m\u001b[0;34m\"utf8\"\u001b[0m\u001b[0;34m)\u001b[0m\u001b[0;34m\u001b[0m\u001b[0;34m\u001b[0m\u001b[0m\n\u001b[0m\u001b[1;32m      4\u001b[0m     \u001b[0mmodel\u001b[0m \u001b[0;34m=\u001b[0m \u001b[0;34m{\u001b[0m\u001b[0;34m}\u001b[0m\u001b[0;34m\u001b[0m\u001b[0;34m\u001b[0m\u001b[0m\n\u001b[1;32m      5\u001b[0m     \u001b[0;32mfor\u001b[0m \u001b[0mline\u001b[0m \u001b[0;32min\u001b[0m \u001b[0mf\u001b[0m\u001b[0;34m:\u001b[0m\u001b[0;34m\u001b[0m\u001b[0;34m\u001b[0m\u001b[0m\n",
            "\u001b[0;31mFileNotFoundError\u001b[0m: [Errno 2] No such file or directory: '/content/dataset/glove.6B.300d.txt'"
          ]
        }
      ]
    },
    {
      "cell_type": "code",
      "source": [
        "# Setting up the paths\n",
        "train_data_path = \"/content/drive/MyDrive/flowers/102flowers\"\n",
        "train_images_path = \"/content/drive/MyDrive/flowers/102flowers/jpg\"\n",
        "train_captions_path = \"/content/drive/MyDrive/flowers/102flowers/text_c10\""
      ],
      "metadata": {
        "id": "2HtZEXHdzx4e"
      },
      "execution_count": null,
      "outputs": []
    },
    {
      "cell_type": "code",
      "source": [
        "# Importing packages\n",
        "import tensorflow as tf\n",
        "from tensorflow.keras.layers import Input, Reshape, Dropout, Dense, Concatenate\n",
        "from tensorflow.keras.layers import Flatten, BatchNormalization\n",
        "from tensorflow.keras.layers import Activation, ZeroPadding2D\n",
        "from tensorflow.keras.layers import LeakyReLU\n",
        "from tensorflow.keras.layers import UpSampling2D, Conv2D, Conv2DTranspose\n",
        "from tensorflow.keras.models import Sequential, Model, load_model\n",
        "from tensorflow.keras.optimizers import Adam\n",
        "from tensorflow.keras.utils import plot_model\n",
        "from tensorflow.keras import initializers\n",
        "from sklearn.metrics import mean_squared_error\n",
        "\n",
        "import numpy as np\n",
        "from PIL import Image\n",
        "from tqdm import tqdm\n",
        "import os\n",
        "import time\n",
        "import matplotlib.pyplot as plt"
      ],
      "metadata": {
        "id": "sPfqcH-dzx8H"
      },
      "execution_count": null,
      "outputs": []
    },
    {
      "cell_type": "code",
      "source": [
        "# code for formatted time string. This will be used to name the files during training, testing, etc.\n",
        "def hms_string(sec_elapsed):\n",
        "    h = int(sec_elapsed / (60 * 60))\n",
        "    m = int((sec_elapsed % (60 * 60)) / 60)\n",
        "    s = sec_elapsed % 60\n",
        "    return \"{}:{:>02}:{:>05.2f}\".format(h, m, s)"
      ],
      "metadata": {
        "id": "6zrIAYHYzx_e"
      },
      "execution_count": null,
      "outputs": []
    },
    {
      "cell_type": "code",
      "source": [
        "GENERATE_RES = 2 # Generation resolution factor\n",
        "# (1=32, 2=64, 3=96, 4=128, etc.)\n",
        "GENERATE_SQUARE = 32 * GENERATE_RES # rows/cols (should be square)\n",
        "IMAGE_CHANNELS = 3\n",
        "\n",
        "# Preview image - These parameters will be used while training the model. We are asking our model to generate png images made up of 28 images in each file.\n",
        "#Hence we use the rows and cols representation.\n",
        "PREVIEW_ROWS = 4\n",
        "PREVIEW_COLS = 7\n",
        "PREVIEW_MARGIN = 16\n",
        "\n",
        "#test image - These parameters will be used while generation/prediction phase of the model. We are asking our model to generate png images made up of 1 image in each file.\n",
        "TEST_ROWS=1\n",
        "TEST_COLS=1\n",
        "TEST_MARGIN=16\n",
        "\n",
        "# Size vector to generate images from\n",
        "SEED_SIZE = 100\n",
        "EMBEDDING_SIZE = 300\n",
        "\n",
        "# environment variables providing paths and other paramenters for training and generation\n",
        "DATA_PATH = train_images_path\n",
        "MODEL_PATH = \"/content/drive/MyDrive/flowers/102flowers/model\"\n",
        "BATCH_SIZE = 64\n",
        "BUFFER_SIZE = 4000\n",
        "\n",
        "print(f\"Will generate {GENERATE_SQUARE}px square images.\")"
      ],
      "metadata": {
        "id": "y6ace_j3zyD8"
      },
      "execution_count": null,
      "outputs": []
    },
    {
      "cell_type": "code",
      "source": [
        "training_binary_path = os.path.join(\"/content/drive/MyDrive/flowers/102flowers/jpg/npy64x64\",\n",
        "                                    f'training_data_{GENERATE_SQUARE}_{GENERATE_SQUARE}_')\n",
        "\n",
        "start = time.time()\n",
        "print(\"Loading training images...\")\n",
        "\n",
        "training_data = []\n",
        "flowers_path = sorted(os.listdir(DATA_PATH))\n",
        "\n",
        "for filename in range(len(flowers_path)):\n",
        "    path = os.path.join(DATA_PATH,flowers_path[filename])\n",
        "    # print(path)\n",
        "    try:\n",
        "      image = Image.open(path).resize((GENERATE_SQUARE,\n",
        "            GENERATE_SQUARE),Image.ANTIALIAS)\n",
        "      channel = np.asarray(image).shape[2]\n",
        "      if channel == 3:\n",
        "        training_data.append(np.asarray(image))\n",
        "    except KeyboardInterrupt:\n",
        "        print(\"Keyboard Interrup by me...\")\n",
        "        break\n",
        "    except:\n",
        "      pass\n",
        "    if len(training_data) == 100:\n",
        "      training_data = np.reshape(training_data,(-1,GENERATE_SQUARE,\n",
        "                GENERATE_SQUARE,IMAGE_CHANNELS))\n",
        "      training_data = training_data.astype(np.float32)\n",
        "      #Normalizing the input\n",
        "      training_data = training_data / 127.5 - 1.\n",
        "\n",
        "      print(\"Saving training image \" + str(100000 + filename) + \".npy\")\n",
        "      np.save(training_binary_path + str(100000 + filename) + \".npy\",training_data)\n",
        "      elapsed = time.time()-start\n",
        "      print (f'Image preprocess time: {hms_string(elapsed)}')\n",
        "      training_data = []\n",
        "print(\"Complete\")\n"
      ],
      "metadata": {
        "id": "nSV6IR1jzyIM"
      },
      "execution_count": null,
      "outputs": []
    },
    {
      "cell_type": "code",
      "source": [
        "\n",
        "text_path = \"/content/dataset1/text_c10/captions\"\n",
        "text_files = sorted(os.listdir(text_path))\n",
        "#print(text_files)\n",
        "captions = []\n",
        "caption_embeddings = np.zeros((len(text_files),300),dtype=np.float32)\n",
        "for filename in range(len(text_files)):\n",
        "    path = os.path.join(text_path,text_files[filename])\n",
        "    #print(path)\n",
        "    f = open(path,'r')\n",
        "    data = f.read()\n",
        "    data = data.split(\"\\n\")\n",
        "    f.close()\n",
        "    for d in range(1):\n",
        "      x = data[d].lower()\n",
        "      #x = x.replace(\" \",\"\")\n",
        "      captions.append(x)\n",
        "      count = 0\n",
        "      for t in x:\n",
        "        try:\n",
        "          caption_embeddings[filename] += glove_embeddings[t]\n",
        "          count += 1\n",
        "        except:\n",
        "          print(t)\n",
        "          pass\n",
        "      caption_embeddings[filename] /= count\n",
        "    if filename %100 == 0:\n",
        "      print(\"-------------Files completed:\",filename)"
      ],
      "metadata": {
        "id": "sPCCflJRzyM8"
      },
      "execution_count": null,
      "outputs": []
    },
    {
      "cell_type": "code",
      "source": [
        "# saving the caption embeddings numpy\n",
        "embedding_binary_path = os.path.join('/content/dataset1/dataset/test',\n",
        "        f'embedding_data.npy')\n",
        "print(\"Saving captions embeddings binary...\")\n",
        "np.save(embedding_binary_path,caption_embeddings)"
      ],
      "metadata": {
        "id": "CFWXZ1ACzyTY"
      },
      "execution_count": null,
      "outputs": []
    },
    {
      "cell_type": "code",
      "source": [
        "embedding_binary_path = os.path.join('/content/dataset1/dataset/test',\n",
        "        f'embedding_data.npy')"
      ],
      "metadata": {
        "id": "XuhnXoKpzyW1"
      },
      "execution_count": null,
      "outputs": []
    },
    {
      "cell_type": "code",
      "source": [
        "caption_embeddings = np.load(embedding_binary_path)"
      ],
      "metadata": {
        "id": "QA_qWV2BLB76"
      },
      "execution_count": null,
      "outputs": []
    },
    {
      "cell_type": "code",
      "source": [
        "caption_embeddings.shape"
      ],
      "metadata": {
        "id": "62GabKbULEw8"
      },
      "execution_count": null,
      "outputs": []
    },
    {
      "cell_type": "code",
      "source": [
        "image_binary_path = \"/content/dataset1/dataset/test/npy64x64/\"\n",
        "images = os.listdir(image_binary_path)"
      ],
      "metadata": {
        "id": "AR4E2TZ2LFdZ"
      },
      "execution_count": null,
      "outputs": []
    },
    {
      "cell_type": "code",
      "source": [
        "images[-1]"
      ],
      "metadata": {
        "id": "-zlTKx9rLFgw"
      },
      "execution_count": null,
      "outputs": []
    },
    {
      "cell_type": "code",
      "source": [
        "# Creating a list of all the preprocessed images\n",
        "final_images = np.load(image_binary_path + images[0])\n",
        "for i in images[1:]:\n",
        "  print(i)\n",
        "  try:\n",
        "    final_images = np.concatenate([final_images,np.load(image_binary_path + i)],axis = 0)\n",
        "  except:\n",
        "    pass"
      ],
      "metadata": {
        "id": "sJRpo2v5LFkY"
      },
      "execution_count": null,
      "outputs": []
    },
    {
      "cell_type": "code",
      "source": [
        "# Creating a dataframe to store the captions\n",
        "df_captions = pd.DataFrame([])\n",
        "df_captions['captions'] = captions[:len(final_images)]"
      ],
      "metadata": {
        "id": "PjJeKtX5LFn8"
      },
      "execution_count": null,
      "outputs": []
    },
    {
      "cell_type": "code",
      "source": [
        "df_captions.head()"
      ],
      "metadata": {
        "id": "pNDlUwd7LF52"
      },
      "execution_count": null,
      "outputs": []
    },
    {
      "cell_type": "code",
      "source": [
        "captions[:10]"
      ],
      "metadata": {
        "id": "KIucnsYmLGBy"
      },
      "execution_count": null,
      "outputs": []
    },
    {
      "cell_type": "code",
      "source": [
        "df_captions.to_csv(\"/content/drive/MyDrive/Colab Notebooks/DL Project/102flowers/text_c10/captions.csv\",index=None)\n"
      ],
      "metadata": {
        "id": "lN4I7DzrLGOI"
      },
      "execution_count": null,
      "outputs": []
    },
    {
      "cell_type": "code",
      "source": [
        "final_images.shape"
      ],
      "metadata": {
        "id": "4GPlzrUmniP9"
      },
      "execution_count": null,
      "outputs": []
    },
    {
      "cell_type": "code",
      "source": [
        "df_captions= pd.read_csv(\"/content/drive/MyDrive/Colab Notebooks/DL Project/102flowers/text_c10/captions.csv\")"
      ],
      "metadata": {
        "id": "nhJ5NoHRniaH"
      },
      "execution_count": null,
      "outputs": []
    },
    {
      "cell_type": "code",
      "source": [
        "df_captions.head()\n"
      ],
      "metadata": {
        "id": "-k8sghAbniiv"
      },
      "execution_count": null,
      "outputs": []
    },
    {
      "cell_type": "code",
      "source": [
        "len(captions)"
      ],
      "metadata": {
        "id": "ms1l7HITnilR"
      },
      "execution_count": null,
      "outputs": []
    },
    {
      "cell_type": "code",
      "source": [
        "#images for testing\n",
        "save_images_captions = captions[:28].copy()\n",
        "save_images_embeddings = np.copy(caption_embeddings[:28])\n",
        "save_images_npy = np.copy(final_images[:28])"
      ],
      "metadata": {
        "id": "KDRjCMtInipF"
      },
      "execution_count": null,
      "outputs": []
    },
    {
      "cell_type": "code",
      "source": [
        "caption_embeddings = caption_embeddings[:final_images.shape[0]]"
      ],
      "metadata": {
        "id": "vdxSaiEfn0AG"
      },
      "execution_count": null,
      "outputs": []
    },
    {
      "cell_type": "code",
      "source": [
        "caption_embeddings.shape"
      ],
      "metadata": {
        "id": "PnHYeZEpn0L8"
      },
      "execution_count": null,
      "outputs": []
    },
    {
      "cell_type": "code",
      "source": [
        "#shuffling the data for training data set\n",
        "p = np.random.permutation(len(final_images))"
      ],
      "metadata": {
        "id": "c-2KPFUOn0T6"
      },
      "execution_count": null,
      "outputs": []
    },
    {
      "cell_type": "code",
      "source": [
        "final_images_shuffled = final_images[p]\n",
        "final_embeddings_shuffled = caption_embeddings[p]\n"
      ],
      "metadata": {
        "id": "JtKkwYdHn0XL"
      },
      "execution_count": null,
      "outputs": []
    },
    {
      "cell_type": "code",
      "source": [
        "final_images_shuffled.shape\n"
      ],
      "metadata": {
        "id": "MceERnben0aK"
      },
      "execution_count": null,
      "outputs": []
    },
    {
      "cell_type": "code",
      "source": [
        "final_embeddings_shuffled.shape\n"
      ],
      "metadata": {
        "id": "Ce-3zyfHn0dR"
      },
      "execution_count": null,
      "outputs": []
    },
    {
      "cell_type": "code",
      "source": [
        "# Batch and shuffle the data\n",
        "# train_dataset = tf.data.Dataset.from_tensor_slices(training_data) \\\n",
        "#     .shuffle(BUFFER_SIZE).batch(BATCH_SIZE)\n",
        "train_dataset = tf.data.Dataset.from_tensor_slices({'images': final_images,\n",
        "                                                    'embeddings': caption_embeddings}).shuffle(BUFFER_SIZE).batch(BATCH_SIZE)"
      ],
      "metadata": {
        "id": "dXNZbl3moB_7"
      },
      "execution_count": null,
      "outputs": []
    },
    {
      "cell_type": "code",
      "source": [
        "def build_generator_func(seed_size,embedding_size, channels):\n",
        "  input_seed = Input(shape=seed_size)\n",
        "  input_embed = Input(shape = embedding_size)\n",
        "  d0 = Dense(128)(input_embed)\n",
        "  leaky0 = LeakyReLU(alpha=0.2)(d0)\n",
        "\n",
        "  merge = Concatenate()([input_seed, leaky0])\n",
        "\n",
        "  d1 = Dense(4*4*256,activation=\"relu\")(merge)\n",
        "  reshape = Reshape((4,4,256))(d1)\n",
        "\n",
        "  upSamp1 = UpSampling2D()(reshape)\n",
        "  conv2d1 = Conv2DTranspose(256,kernel_size=5,padding=\"same\",kernel_initializer=initializers.RandomNormal(stddev=0.02))(upSamp1)\n",
        "  batchNorm1 = BatchNormalization(momentum=0.8)(conv2d1)\n",
        "  leaky1 = LeakyReLU(alpha=0.2)(batchNorm1)\n",
        "\n",
        "  upSamp2 = UpSampling2D()(leaky1)\n",
        "  conv2d2 = Conv2DTranspose(256,kernel_size=5,padding=\"same\",kernel_initializer=initializers.RandomNormal(stddev=0.02))(upSamp2)\n",
        "  batchNorm2 = BatchNormalization(momentum=0.8)(conv2d2)\n",
        "  leaky2 = LeakyReLU(alpha=0.2)(batchNorm2)\n",
        "\n",
        "  upSamp3 = UpSampling2D()(leaky2)\n",
        "  conv2d3 = Conv2DTranspose(128,kernel_size=4,padding=\"same\",kernel_initializer=initializers.RandomNormal(stddev=0.02))(upSamp3)\n",
        "  batchNorm3 = BatchNormalization(momentum=0.8)(conv2d3)\n",
        "  leaky3 = LeakyReLU(alpha=0.2)(batchNorm3)\n",
        "\n",
        "  upSamp4 = UpSampling2D(size=(GENERATE_RES,GENERATE_RES))(leaky3)\n",
        "  conv2d4 = Conv2DTranspose(128,kernel_size=4,padding=\"same\",kernel_initializer=initializers.RandomNormal(stddev=0.02))(upSamp4)\n",
        "  batchNorm4 = BatchNormalization(momentum=0.8)(conv2d4)\n",
        "  leaky4 = LeakyReLU(alpha=0.2)(batchNorm4)\n",
        "\n",
        "  outputConv = Conv2DTranspose(channels,kernel_size=3,padding=\"same\",kernel_initializer=initializers.RandomNormal(stddev=0.02))(leaky4)\n",
        "  outputActi = Activation(\"tanh\")(outputConv)\n",
        "\n",
        "  model = Model(inputs=[input_seed,input_embed], outputs=outputActi)\n",
        "  return model"
      ],
      "metadata": {
        "id": "uh65cdmUoCLD"
      },
      "execution_count": null,
      "outputs": []
    },
    {
      "cell_type": "code",
      "source": [
        "def build_discriminator_func(image_shape, embedding_size):\n",
        "  input_shape = Input(shape=image_shape)\n",
        "  input_embed = Input(shape=embedding_size)\n",
        "\n",
        "  conv2d1 = Conv2D(32,kernel_size=4,strides=2,input_shape=image_shape,padding=\"same\",kernel_initializer=initializers.RandomNormal(stddev=0.02))(input_shape)\n",
        "  leaky1 = LeakyReLU(alpha=0.2)(conv2d1)\n",
        "\n",
        "  drop2 = Dropout(0.25)(leaky1)\n",
        "  conv2d2 = Conv2D(64, kernel_size=4, strides=2, padding=\"same\",kernel_initializer=initializers.RandomNormal(stddev=0.02))(drop2)\n",
        "  batchNorm2 = BatchNormalization(momentum=0.8)(conv2d2)\n",
        "  leaky2 = LeakyReLU(alpha=0.2)(batchNorm2)\n",
        "\n",
        "  drop3 = Dropout(0.25)(leaky2)\n",
        "  conv2d3 = Conv2D(128, kernel_size=4, strides=2, padding=\"same\",kernel_initializer=initializers.RandomNormal(stddev=0.02))(drop3)\n",
        "  batchNorm3 = BatchNormalization(momentum=0.8)(conv2d3)\n",
        "  leaky3 = LeakyReLU(alpha=0.2)(batchNorm3)\n",
        "\n",
        "  drop4 = Dropout(0.25)(leaky3)\n",
        "  conv2d4 = Conv2D(256, kernel_size=4, strides=2, padding=\"same\",kernel_initializer=initializers.RandomNormal(stddev=0.02))(drop4)\n",
        "  batchNorm4 = BatchNormalization(momentum=0.8)(conv2d4)\n",
        "  leaky4 = LeakyReLU(alpha=0.2)(batchNorm4)\n",
        "\n",
        "  dense_embed = Dense(128,kernel_initializer=initializers.RandomNormal(stddev=0.02))(input_embed)\n",
        "  leaky_embed = LeakyReLU(alpha=0.2)(dense_embed)\n",
        "  reshape_embed = Reshape((4,4,8))(leaky_embed)\n",
        "  merge_embed = Concatenate()([leaky4, reshape_embed])\n",
        "\n",
        "  drop5 = Dropout(0.25)(merge_embed)\n",
        "  conv2d5 = Conv2D(512, kernel_size=4,kernel_initializer=initializers.RandomNormal(stddev=0.02))(drop5)\n",
        "  batchNorm5 = BatchNormalization(momentum=0.8)(conv2d5)\n",
        "  leaky5 = LeakyReLU(alpha=0.2)(batchNorm5)\n",
        "\n",
        "  drop6 = Dropout(0.25)(leaky5)\n",
        "  flatten = Flatten()(drop6)\n",
        "  output = Dense(1,activation=\"sigmoid\")(flatten)\n",
        "\n",
        "  model = Model(inputs=[input_shape,input_embed], outputs=output)\n",
        "  return model"
      ],
      "metadata": {
        "id": "X0zFG8epoCON"
      },
      "execution_count": null,
      "outputs": []
    },
    {
      "cell_type": "code",
      "source": [
        "#Function to save image samples generated\n",
        "def save_images(cnt,noise,embeds):\n",
        "  image_array = np.full((\n",
        "      PREVIEW_MARGIN + (PREVIEW_ROWS * (GENERATE_SQUARE+PREVIEW_MARGIN)),\n",
        "      PREVIEW_MARGIN + (PREVIEW_COLS * (GENERATE_SQUARE+PREVIEW_MARGIN)), 3),\n",
        "      255, dtype=np.uint8)\n",
        "\n",
        "  generated_images = generator.predict((noise,embeds))\n",
        "\n",
        "  generated_images = 0.5 * generated_images + 0.5\n",
        "\n",
        "  image_count = 0\n",
        "  for row in range(PREVIEW_ROWS):\n",
        "      for col in range(PREVIEW_COLS):\n",
        "        r = row * (GENERATE_SQUARE+16) + PREVIEW_MARGIN\n",
        "        c = col * (GENERATE_SQUARE+16) + PREVIEW_MARGIN\n",
        "        image_array[r:r+GENERATE_SQUARE,c:c+GENERATE_SQUARE] \\\n",
        "            = generated_images[image_count] * 255\n",
        "        image_count += 1\n",
        "\n",
        "\n",
        "  output_path = \"/content/drive/MyDrive/Colab Notebooks/DL Project/102flowers/images_generated_during_training_1000\"\n",
        "  if not os.path.exists(output_path):\n",
        "    os.makedirs(output_path)\n",
        "\n",
        "  filename = os.path.join(output_path,f\"train-{cnt}.png\")\n",
        "  im = Image.fromarray(image_array)\n",
        "  im.save(filename)"
      ],
      "metadata": {
        "id": "zt1hY0tToCSg"
      },
      "execution_count": null,
      "outputs": []
    },
    {
      "cell_type": "code",
      "source": [
        "# Initlializing a generator\n",
        "generator = build_generator_func(SEED_SIZE,EMBEDDING_SIZE, IMAGE_CHANNELS)\n",
        "generator.load_weights(\"/content/drive/MyDrive/Colab Notebooks/DL Project/102flowers/model/text_to_image_generator_cub_character.h5\")"
      ],
      "metadata": {
        "id": "A8JofTvGoCuc"
      },
      "execution_count": null,
      "outputs": []
    },
    {
      "cell_type": "code",
      "source": [
        "# Sample output from the Generator\n",
        "noise = tf.random.normal([1, 100])\n",
        "generated_image = generator((noise,caption_embeddings[5].reshape(1,300)), training=False)\n",
        "\n",
        "plt.imshow(generated_image[0, :, :, 0])"
      ],
      "metadata": {
        "id": "bGZJAPTmoX35"
      },
      "execution_count": null,
      "outputs": []
    },
    {
      "cell_type": "code",
      "source": [
        "# Initlializing a discriminator\n",
        "image_shape = (GENERATE_SQUARE,GENERATE_SQUARE,IMAGE_CHANNELS)\n",
        "\n",
        "discriminator = build_discriminator_func(image_shape,EMBEDDING_SIZE)\n",
        "discriminator.load_weights(\"/content/drive/MyDrive/Colab Notebooks/DL Project/102flowers/model/text_to_image_disc_cub_character.h5\")"
      ],
      "metadata": {
        "id": "7w5ocgSeoYLt"
      },
      "execution_count": null,
      "outputs": []
    },
    {
      "cell_type": "code",
      "source": [
        "decision = discriminator((generated_image,caption_embeddings[5].reshape(1,300)))\n",
        "print(decision)"
      ],
      "metadata": {
        "id": "g8gl6sR3oYZL"
      },
      "execution_count": null,
      "outputs": []
    },
    {
      "cell_type": "code",
      "source": [
        "# This method returns a helper function to compute cross entropy loss\n",
        "cross_entropy = tf.keras.losses.BinaryCrossentropy()\n",
        "\n",
        "def discriminator_loss(real_image_real_text, fake_image_real_text, real_image_fake_text):\n",
        "    real_loss = cross_entropy(tf.random.uniform(real_image_real_text.shape,0.8,1.0), real_image_real_text)\n",
        "    fake_loss = (cross_entropy(tf.random.uniform(fake_image_real_text.shape,0.0,0.2), fake_image_real_text) +\n",
        "                 cross_entropy(tf.random.uniform(real_image_fake_text.shape,0.0,0.2), real_image_fake_text))/2\n",
        "\n",
        "    total_loss = real_loss + fake_loss\n",
        "    return total_loss\n",
        "\n",
        "def generator_loss(fake_output):\n",
        "    return cross_entropy(tf.ones_like(fake_output), fake_output)"
      ],
      "metadata": {
        "id": "xbJPdszGoYbp"
      },
      "execution_count": null,
      "outputs": []
    },
    {
      "cell_type": "code",
      "source": [
        "generator_optimizer = tf.keras.optimizers.Adam(learning_rate=2.0e-4,beta_1 = 0.5)\n",
        "discriminator_optimizer = tf.keras.optimizers.Adam(learning_rate=2.0e-4,beta_1 = 0.5)"
      ],
      "metadata": {
        "id": "NGjBe5jqoYfl"
      },
      "execution_count": null,
      "outputs": []
    },
    {
      "cell_type": "code",
      "source": [
        "# This annotation causes the function to be \"compiled\".\n",
        "@tf.function\n",
        "def train_step(images,captions,fake_captions):\n",
        "  seed = tf.random.normal([BATCH_SIZE, SEED_SIZE],dtype=tf.float32)\n",
        "\n",
        "  with tf.GradientTape() as gen_tape, tf.GradientTape() as disc_tape:\n",
        "    generated_images = generator((seed,captions), training=True)\n",
        "    real_image_real_text = discriminator((images,captions), training=True)\n",
        "    real_image_fake_text = discriminator((images,fake_captions), training=True)\n",
        "    fake_image_real_text = discriminator((generated_images,captions), training=True)\n",
        "\n",
        "    gen_loss = generator_loss(fake_image_real_text)\n",
        "    disc_loss = discriminator_loss(real_image_real_text, fake_image_real_text, real_image_fake_text)\n",
        "    # print(gen_loss)\n",
        "    # print(disc_loss)\n",
        "\n",
        "    gradients_of_generator = gen_tape.gradient(\\\n",
        "        gen_loss, generator.trainable_variables)\n",
        "    gradients_of_discriminator = disc_tape.gradient(\\\n",
        "        disc_loss, discriminator.trainable_variables)\n",
        "\n",
        "    generator_optimizer.apply_gradients(zip(\n",
        "        gradients_of_generator, generator.trainable_variables))\n",
        "    discriminator_optimizer.apply_gradients(zip(\n",
        "        gradients_of_discriminator,\n",
        "        discriminator.trainable_variables))\n",
        "  return gen_loss,disc_loss"
      ],
      "metadata": {
        "id": "RlQT8hRioYj3"
      },
      "execution_count": null,
      "outputs": []
    },
    {
      "cell_type": "code",
      "source": [
        "# Function that executes trianing process\n",
        "def train(train_dataset, epochs):\n",
        "  fixed_seed = np.random.normal(0, 1, (PREVIEW_ROWS * PREVIEW_COLS,\n",
        "                                       SEED_SIZE))\n",
        "  fixed_embed = save_images_embeddings\n",
        "\n",
        "  start = time.time()\n",
        "\n",
        "  for epoch in range(epochs):\n",
        "    print(\"epoch start...\")\n",
        "    epoch_start = time.time()\n",
        "\n",
        "    gen_loss_list = []\n",
        "    disc_loss_list = []\n",
        "\n",
        "    for batch in train_dataset[:-1]:\n",
        "      train_batch = batch['images']\n",
        "      caption_batch = batch['embeddings']\n",
        "\n",
        "      fake_caption_batch = np.copy(caption_batch)\n",
        "      np.random.shuffle(fake_caption_batch)\n",
        "\n",
        "      t = train_step(train_batch,caption_batch,fake_caption_batch)\n",
        "      gen_loss_list.append(t[0])\n",
        "      disc_loss_list.append(t[1])\n",
        "    print(\"now\")\n",
        "    g_loss = sum(gen_loss_list) / len(gen_loss_list)\n",
        "    d_loss = sum(disc_loss_list) / len(disc_loss_list)\n",
        "\n",
        "    epoch_elapsed = time.time()-epoch_start\n",
        "    print(f'Epoch {epoch+1}, gen loss={g_loss},disc loss={d_loss}, {hms_string(epoch_elapsed)}')\n",
        "    save_images(epoch,fixed_seed,fixed_embed)\n",
        "\n",
        "    generator.save(os.path.join(MODEL_PATH,\"text_to_image_generator_cub_character.h5\"))\n",
        "    discriminator.save(os.path.join(MODEL_PATH,\"text_to_image_disc_cub_character.h5\"))\n",
        "    print(\"model saved\")"
      ],
      "metadata": {
        "id": "34CPmz-PzAjW"
      },
      "execution_count": null,
      "outputs": []
    },
    {
      "cell_type": "code",
      "source": [
        "train(list(train_dataset.as_numpy_iterator()), 1000)"
      ],
      "metadata": {
        "id": "XW5kO2iozArw"
      },
      "execution_count": null,
      "outputs": []
    },
    {
      "cell_type": "code",
      "source": [
        "#Retriving embeddings for testing the results\n",
        "save_images_embeddings.shape"
      ],
      "metadata": {
        "id": "9PPSKfA0zAxM"
      },
      "execution_count": null,
      "outputs": []
    },
    {
      "cell_type": "code",
      "source": [
        "# Printing the captions\n",
        "save_images_captions"
      ],
      "metadata": {
        "id": "WRGV9mh9zA4S"
      },
      "execution_count": null,
      "outputs": []
    },
    {
      "cell_type": "code",
      "source": [
        "#Function to save generated image after we provide the text and save it in a grid\n",
        "def save_test_images(cnt,noise,embeds):\n",
        "  image_array = np.full((\n",
        "      TEST_MARGIN + (TEST_ROWS * (GENERATE_SQUARE+TEST_MARGIN)),\n",
        "      TEST_MARGIN + (TEST_COLS * (GENERATE_SQUARE+TEST_MARGIN)), 3),\n",
        "      255, dtype=np.uint8)\n",
        "\n",
        "  generated_test_images = generator.predict((noise,embeds))\n",
        "\n",
        "  generated_test_images = 0.5 * generated_test_images + 0.5\n",
        "\n",
        "  image_count = 0\n",
        "  for row in range(TEST_ROWS):\n",
        "      for col in range(TEST_COLS):\n",
        "        r = row * (GENERATE_SQUARE+16) + TEST_MARGIN\n",
        "        c = col * (GENERATE_SQUARE+16) + TEST_MARGIN\n",
        "        image_array[r:r+GENERATE_SQUARE,c:c+GENERATE_SQUARE] \\\n",
        "            = generated_test_images[image_count] * 255\n",
        "        image_count += 1\n",
        "\n",
        "\n",
        "  output_path = \"/content/drive/MyDrive/Colab Notebooks/DL Project/102flowers/generated_test_output\"\n",
        "  if not os.path.exists(output_path):\n",
        "    os.makedirs(output_path)\n",
        "\n",
        "  filename = os.path.join(output_path,f\"TEST-{cnt}.png\")\n",
        "  im = Image.fromarray(image_array)\n",
        "  im.save(filename)"
      ],
      "metadata": {
        "id": "44ehzovKzIb6"
      },
      "execution_count": null,
      "outputs": []
    },
    {
      "cell_type": "code",
      "source": [
        "def test_image(text,num):\n",
        "  test_embeddings = np.zeros((1,300),dtype=np.float32)\n",
        "\n",
        "  x = text.lower()\n",
        "  #x = x.replace(\" \",\"\")\n",
        "  count = 0\n",
        "  for t in x:\n",
        "    try:\n",
        "      test_embeddings[0] += glove_embeddings[t]\n",
        "      count += 1\n",
        "    except:\n",
        "      print(t)\n",
        "      pass\n",
        "  test_embeddings[0] /= count\n",
        "  test_embeddings =  np.repeat(test_embeddings,[28],axis=0)\n",
        "  noise = tf.random.normal([28, 100])\n",
        "  save_test_images(num,noise,test_embeddings)"
      ],
      "metadata": {
        "id": "VMCxK8TzzIku"
      },
      "execution_count": null,
      "outputs": []
    },
    {
      "cell_type": "code",
      "source": [
        "test_image(\"this is a pink flower with oval shaped petals\",25)"
      ],
      "metadata": {
        "id": "ypPe4r3ZzInZ"
      },
      "execution_count": null,
      "outputs": []
    },
    {
      "cell_type": "code",
      "source": [
        "import IPython\n",
        "IPython.display.Image('/content/drive/MyDrive/Colab Notebooks/DL Project/102flowers/generated_test_output/TEST-25.png')"
      ],
      "metadata": {
        "id": "aODYUHD6zIrS"
      },
      "execution_count": null,
      "outputs": []
    },
    {
      "cell_type": "code",
      "source": [
        "test_image(\"the petals on this flower are white with an elaborate pistil.\",19)"
      ],
      "metadata": {
        "id": "jCEqtq0GzIu_"
      },
      "execution_count": null,
      "outputs": []
    },
    {
      "cell_type": "code",
      "source": [
        "import IPython\n",
        "IPython.display.Image('/content/drive/My Drive/102flowers/102flowers/generated_test_output/test-19.png')"
      ],
      "metadata": {
        "id": "Vw1zTiJ1zIyY"
      },
      "execution_count": null,
      "outputs": []
    },
    {
      "cell_type": "code",
      "source": [
        "test_image(\"a flower that has vivid yellow petals and dark purple stamen\",21)"
      ],
      "metadata": {
        "id": "2UOXKS1FznKq"
      },
      "execution_count": null,
      "outputs": []
    },
    {
      "cell_type": "code",
      "source": [
        "import IPython\n",
        "IPython.display.Image('/content/drive/My Drive/102flowers/102flowers/generated_test_output/test-21.png')"
      ],
      "metadata": {
        "id": "KYsrcUcrznQE"
      },
      "execution_count": null,
      "outputs": []
    },
    {
      "cell_type": "code",
      "source": [
        "test_image(\"this is a blue flower with round petals\",24)"
      ],
      "metadata": {
        "id": "nHeseZfWznW3"
      },
      "execution_count": null,
      "outputs": []
    },
    {
      "cell_type": "code",
      "source": [
        "import IPython\n",
        "IPython.display.Image('/content/drive/My Drive/102flowers/102flowers/generated_test_output/test-24.png')"
      ],
      "metadata": {
        "id": "w_v_7Surzuse"
      },
      "execution_count": null,
      "outputs": []
    }
  ]
}